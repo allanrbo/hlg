{
 "cells": [
  {
   "cell_type": "code",
   "execution_count": null,
   "metadata": {},
   "outputs": [],
   "source": [
    "import pandas as pd\n",
    "import numpy as np\n",
    "from matplotlib.pyplot import figure\n",
    "import seaborn as sns\n",
    "import matplotlib.pyplot as plt\n",
    "from matplotlib import ticker\n",
    "from IPython import display\n",
    "from io import BytesIO\n",
    "from time import sleep"
   ]
  },
  {
   "cell_type": "code",
   "execution_count": null,
   "metadata": {},
   "outputs": [],
   "source": [
    "# TODO use this instead of hardcoded percentiles\n",
    "\"\"\"\n",
    "func generateQuantiles() (percentiles []float64) {\n",
    "\tconst stepsBetween = 5\n",
    "\tcur := float64(0)\n",
    "\n",
    "\tfor {\n",
    "\t\tprev := cur\n",
    "\t\tcur = (float64(1) + cur)/float64(2)\n",
    "\n",
    "\t\ta := (cur - prev) / stepsBetween\n",
    "\t\tfor i := 0; i < stepsBetween; i++ {\n",
    "\t\t\tpercentiles = append(percentiles, prev + a*float64(i))\n",
    "\t\t}\n",
    "\n",
    "\t\tif len(percentiles) >= 101 {\n",
    "\t\t\tbreak\n",
    "\t\t}\n",
    "\t}\n",
    "\n",
    "\tpercentiles = percentiles[1:]\n",
    "\treturn\n",
    "}\n",
    "\"\"\"\n",
    "\n",
    "def plotPercentileDistribution2():\n",
    "    display.clear_output(wait=True)\n",
    "    \n",
    "    percentiles = [0.100000,0.200000,0.300000,0.400000,0.500000,0.550000,0.600000,0.650000,0.700000,0.750000,0.775000,0.800000,0.825000,0.850000,0.875000,0.887500,0.900000,0.912500,0.925000,0.937500,0.943750,0.950000,0.956250,0.962500,0.968750,0.971875,0.975000,0.978125,0.981250,0.984375,0.985938,0.987500,0.989062,0.990625,0.992188,0.992969,0.993750,0.994531,0.995313,0.996094,0.996484,0.996875,0.997266,0.997656,0.998047,0.998242,0.998437,0.998633,0.998828,0.999023,0.999121,0.999219,0.999316,0.999414,0.999512,0.999561,0.999609,0.999658,0.999707,0.999756,0.999780,0.999805,0.999829,0.999854,0.999878,0.999890,0.999902,0.999915,0.999927,0.999939,0.999945,0.999951,0.999957,0.999963,0.999969,0.999973,0.999976,0.999979,0.999982,0.999985,0.999986,0.999988,0.999989,0.999991,0.999992,0.999993,0.999994,0.999995,0.999996,0.999997,0.999998]\n",
    "\n",
    "    fig, (ax1) = plt.subplots(nrows=1, figsize=(16, 8))\n",
    "    fig.suptitle(\"Response time by percentile distribution\", fontsize=15)\n",
    "    ax1.set_xlabel(\"Percentile (log scale)\")\n",
    "    ax1.set_ylabel(\"Response time (milliseconds)\")\n",
    "\n",
    "    keys = [1.0/(1.0-(p)) for p in percentiles]\n",
    "    ax1.set_xscale('log')\n",
    "    ax1.xaxis.set_ticks([1, 10, 100, 1000, 10000, 100000, 1000000, 10000000, 100000000])\n",
    "    ax1.xaxis.set_ticklabels([\"0%\", \"90%\", \"99%\", \"99.9%\", \"99.99%\", \"99.999%\", \"99.9999%\", \"99.99999%\", \"99.999999%\"])\n",
    "    ax1.set_autoscalex_on(True)\n",
    "    ax1.set_xlim([1*0.7,1000000*1.3])\n",
    "\n",
    "    #ax1.set_ylim([0,2000])\n",
    "\n",
    "    \n",
    "    df = pd.read_csv(\"latencies.csv\")\n",
    "    vals = df.quantile(percentiles)[\"latencyMs\"].values\n",
    "    ax1.plot(keys, vals, label=\"Benchmark\")\n",
    "\n",
    "    ax1.step([1, 10000, 100000, 100000, 1000000], [100, 200, 200, 500, 500], where=\"post\", label=\"SLA\")\n",
    "\n",
    "    ax1.legend(frameon=False, loc=\"upper left\")\n",
    "    plt.show()\n",
    "\n",
    "#plotPercentileDistribution2()\n"
   ]
  },
  {
   "cell_type": "code",
   "execution_count": null,
   "metadata": {},
   "outputs": [],
   "source": [
    "try:\n",
    "    while True:\n",
    "        try:\n",
    "            plotPercentileDistribution2()\n",
    "        except: pass\n",
    "        sleep(1)\n",
    "except KeyboardInterrupt: pass"
   ]
  },
  {
   "cell_type": "code",
   "execution_count": null,
   "metadata": {},
   "outputs": [],
   "source": [
    "def plotResponseTimes():\n",
    "    display.clear_output(wait=True)\n",
    "\n",
    "    fig, (ax1) = plt.subplots(nrows=1, figsize=(16, 8))\n",
    "    fig.suptitle(\"Response times over time\", fontsize=15)\n",
    "    ax1.set_xlabel(\"Elapsed time\")\n",
    "    ax1.set_ylabel(\"Response time (milliseconds)\")\n",
    "\n",
    "    df = pd.read_csv(\"latencies.csv\")\n",
    "    vals = df[\"latencyMs\"].values\n",
    "    ax1.plot(vals, label=\"Benchmark 1\")\n",
    "    \n",
    "    ax1.legend(frameon=False, loc=\"upper left\")\n",
    "    plt.show()\n",
    "\n",
    "\n",
    "plotResponseTimes()\n"
   ]
  },
  {
   "cell_type": "code",
   "execution_count": null,
   "metadata": {},
   "outputs": [],
   "source": []
  },
  {
   "cell_type": "code",
   "execution_count": null,
   "metadata": {},
   "outputs": [],
   "source": []
  }
 ],
 "metadata": {
  "kernelspec": {
   "display_name": "Python 3",
   "language": "python",
   "name": "python3"
  },
  "language_info": {
   "codemirror_mode": {
    "name": "ipython",
    "version": 3
   },
   "file_extension": ".py",
   "mimetype": "text/x-python",
   "name": "python",
   "nbconvert_exporter": "python",
   "pygments_lexer": "ipython3",
   "version": "3.6.9"
  }
 },
 "nbformat": 4,
 "nbformat_minor": 4
}
